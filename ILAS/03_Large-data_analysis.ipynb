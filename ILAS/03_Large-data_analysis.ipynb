{
 "cells": [
  {
   "cell_type": "markdown",
   "metadata": {},
   "source": [
    "# 大規模データを扱う\n",
    "\n",
    "1. [Pandasの基本](#link1)\n",
    "1. [データの読み込み](#link2)\n",
    "1. [特定のセルのデータを取り出す](#link3)\n",
    "1. [特定の行を取り出す](#link4)\n",
    "1. [特定の列を取り出す](#link5)\n",
    "1. [列同士の計算をする](#link6)\n",
    "1. [条件に合う行を取り出す](#link7)\n",
    "1. [集計する](#link8)\n",
    "1. [グラフを描く](#link9)\n",
    "1. [二つのデータフレームを結合する](#link10)\n",
    "\n",
    "---\n",
    "\n",
    "前回までは、Pythonの基本を勉強しました。  \n",
    "また、open関数、for文とif文などを使って、ファイル読み込みとデータ処理も実践しました。\n",
    "\n",
    "今回からは、Pandasと呼ばれるPythonのパッケージ（追加機能のようなもの）を利用して、大規模データを取り扱っていきます。  \n",
    "Pandasは、二次元データテーブルの取扱いを容易にするパッケージです。\n",
    "\n",
    "以下に、前回までのデータ処理方法とPandasを使った方法を示しています。"
   ]
  },
  {
   "cell_type": "code",
   "execution_count": null,
   "metadata": {
    "collapsed": true
   },
   "outputs": [],
   "source": [
    "# 前回までのデータ処理方法（簡易的な方法）\n",
    "# 読み込みデータ: ./data/g1000_exp.txt\n",
    "# Significant='yes' の行のみを表示するプログラム\n",
    "\n",
    "f = open('./data/g1000_exp.txt', 'r')  # ファイル読み込み\n",
    "\n",
    "# 一行ずつ処理していく\n",
    "for line in f:\n",
    "    \n",
    "    # 一行のなかに'yes'の文字があれば、その行を表示\n",
    "    if 'yes' in line: \n",
    "        print(line)"
   ]
  },
  {
   "cell_type": "code",
   "execution_count": null,
   "metadata": {
    "collapsed": true
   },
   "outputs": [],
   "source": [
    "# 前回までのデータ処理方法（よりきっちりした方法）\n",
    "\n",
    "f = open('./data/g1000_exp.txt', 'r')  # ファイル読み込み\n",
    "\n",
    "for line in f:\n",
    "    line = line.rstrip()     # 行末の改行コード(\\n)を除去する\n",
    "    item = line.split('\\t')  # タブ(\\t)文字で一行を分割する\n",
    "    sig = item[3]            # 4列目のデータをsigに入れる\n",
    "    \n",
    "    # 4列目が'yes'なら、その行を表示\n",
    "    if sig == 'yes': \n",
    "        print(line)"
   ]
  },
  {
   "cell_type": "code",
   "execution_count": null,
   "metadata": {
    "collapsed": true
   },
   "outputs": [],
   "source": [
    "# Pandasを使った処理方法\n",
    "\n",
    "import pandas as pd  # pandasの読み込み; pdという省略形で使用可能にする\n",
    "\n",
    "# データの読み込み（区切り文字、ヘッダー行を指定）\n",
    "# dfという変数に格納\n",
    "df = pd.read_csv('./data/g1000_exp.txt', sep='\\t', header=0)\n",
    "\n",
    "# Significant列が'yes'の行のみ表示\n",
    "print(df[df['Significant']=='yes'])"
   ]
  },
  {
   "cell_type": "markdown",
   "metadata": {},
   "source": [
    "<a name=\"link1\"></a>\n",
    "## 1. Pandasの基本\n",
    "\n",
    "- 図のようなデータを「データフレーム」といいます。\n",
    "- 一番上の行はヘッダー行: カラム（列）名の行\n",
    "- 一番左の列はインデックス列: インデックス（行）名の列\n",
    "- 各列には、それぞれ同じ型のデータが入っています。\n",
    "- 各行には、通常「1サンプル分のデータ」が入っています（図では、各行に1遺伝子のデータ）\n",
    "\n",
    "![Pandasデータフレーム](pics/pandas_dataframe.png \"Pandasデータフレーム\")"
   ]
  },
  {
   "cell_type": "markdown",
   "metadata": {},
   "source": [
    "<a name=\"link2\"></a>\n",
    "## 2. データの読み込み\n",
    "RNA-seq解析で実際に出てくるデータを使っていきます。\n",
    "\n",
    "使うデータファイルは、 \n",
    "- ファイル名: `./data/DE_results.txt`\n",
    "- 区切り文字: タブ区切り='\\t'\n",
    "- ヘッダー行: 0行目\n",
    "\n",
    "各カラムの説明\n",
    "- sampleA, sampleB: サンプル名\n",
    "- logFC: sampleAとB間の発現量の差; log2(sampleA/sampleB)  \n",
    "    - logFC>0の場合、sampleAの発現量の方が多い。  \n",
    "    - logFC<0の場合、sampleBの発現量の方が多い。\n",
    "- logCPM: sampleAとBの発現量の平均\n",
    "    - 遺伝子発現量の大小を示す値\n",
    "- PValue: フィッシャーの正確確率検定による確率\n",
    "- FDR: False Discovery Rate\n",
    "    - ふつう、この値が0.05より低い遺伝子を「発現変動遺伝子」とみなします。\n",
    "\n",
    "![サンプルデータフレーム](pics/sample_dataframe.png \"サンプルデータフレーム\")\n",
    "\n",
    "---\n",
    "\n",
    "```python\n",
    "# Pandasの読み込み\n",
    "import pandas as pd\n",
    "\n",
    "# データの読み込み。 タブ区切りを表す文字（\\t）\n",
    "df = pd.read_csv(ファイル名, sep=区切り文字, header=ヘッダー行の番号, index_col=インデックス列の番号)\n",
    "\n",
    "# 表示\n",
    "df\n",
    "```\n"
   ]
  },
  {
   "cell_type": "code",
   "execution_count": null,
   "metadata": {
    "collapsed": true,
    "scrolled": true
   },
   "outputs": [],
   "source": [
    "# データ（./data/DE_results.txt）を読み込む\n"
   ]
  },
  {
   "cell_type": "markdown",
   "metadata": {},
   "source": [
    "<a name=\"link3\"></a>\n",
    "## 3. 特定のセルのデータを取り出す\n",
    "\n",
    "行、列の指定方法\n",
    "- loc: 行ラベル、 列ラベル\n",
    "- iloc: 行の番号(0 ~ )、列の番号(0 ~ )\n",
    "\n",
    "---\n",
    "\n",
    "```python\n",
    "# 行と列の番号を指定してデータを取り出す\n",
    "データフレーム.iloc[行番号,列番号] \n",
    "\n",
    "# 行と列のラベル（名前）を指定してデータを取り出す\n",
    "データフレーム.loc[行ラベル,列ラベル] \n",
    "```"
   ]
  },
  {
   "cell_type": "code",
   "execution_count": null,
   "metadata": {
    "collapsed": true
   },
   "outputs": [],
   "source": [
    "# 3行目（TRINITY_DN10003_c0_g2）、4列目（PValue）のデータを取得\n"
   ]
  },
  {
   "cell_type": "markdown",
   "metadata": {},
   "source": [
    "<a name=\"link4\"></a>\n",
    "## 4. 特定の行を取り出す\n",
    "\n",
    "```python\n",
    "データフレーム.iloc[行番号,:]\n",
    "　または\n",
    "データフレーム.loc[行ラベル,:]\n",
    "```"
   ]
  },
  {
   "cell_type": "code",
   "execution_count": null,
   "metadata": {
    "collapsed": true
   },
   "outputs": [],
   "source": [
    "# 3行目（TRINITY_DN10003_c0_g2）のデータを取得\n"
   ]
  },
  {
   "cell_type": "markdown",
   "metadata": {},
   "source": [
    "<a name=\"link5\"></a>\n",
    "## 5. 特定の列を取り出す\n",
    "\n",
    "```python\n",
    "データフレーム.iloc[:,列番号]\n",
    "　または\n",
    "データフレーム.loc[:,列ラベル]\n",
    "　または\n",
    "データフレーム[列ラベル]\n",
    "```"
   ]
  },
  {
   "cell_type": "code",
   "execution_count": null,
   "metadata": {
    "collapsed": true
   },
   "outputs": [],
   "source": [
    "# 4列目（PValue）のデータを取得\n"
   ]
  },
  {
   "cell_type": "markdown",
   "metadata": {},
   "source": [
    "<a name=\"link6\"></a>\n",
    "## 6. 列同士の計算をする\n",
    "\n",
    "```python\n",
    "# 足し算の場合\n",
    "データフレーム[列ラベル] + データフレーム[列ラベル]\n",
    "```"
   ]
  },
  {
   "cell_type": "code",
   "execution_count": null,
   "metadata": {
    "collapsed": true,
    "scrolled": true
   },
   "outputs": [],
   "source": [
    "# 2列目（logFC）と3列目（logCPM）を掛け算\n"
   ]
  },
  {
   "cell_type": "markdown",
   "metadata": {},
   "source": [
    "<a name=\"link7\"></a>\n",
    "## 7. 条件に合う行を取り出す\n",
    "\n",
    "```python\n",
    "データフレーム[条件文]\n",
    "\n",
    "例えば、df[df['logFC']>0]\n",
    "```"
   ]
  },
  {
   "cell_type": "code",
   "execution_count": null,
   "metadata": {
    "collapsed": true
   },
   "outputs": [],
   "source": [
    "# FDRが0.05より小さいデータを取得\n"
   ]
  },
  {
   "cell_type": "markdown",
   "metadata": {},
   "source": [
    "<a name=\"link8\"></a>\n",
    "## 8. 集計する\n",
    "\n",
    "集約関数、統計関数\n",
    "- count(): 個数を数える\n",
    "- mean(): 平均値を求める\n",
    "- sum(): 合計値を求める\n",
    "- max(): 最大値を求める\n",
    "- min(): 最小値を求める\n",
    "- std(): 標準偏差を求める\n",
    "- var(): 分散を求める\n",
    "\n",
    "---\n",
    "\n",
    "```python\n",
    "# 平均値を求める場合\n",
    "データフレーム.mean()\n",
    "データフレーム[列ラベル].mean\n",
    "```"
   ]
  },
  {
   "cell_type": "code",
   "execution_count": null,
   "metadata": {
    "collapsed": true
   },
   "outputs": [],
   "source": [
    "# 各列の平均値を求める\n"
   ]
  },
  {
   "cell_type": "markdown",
   "metadata": {},
   "source": [
    "<a name=\"link9\"></a>\n",
    "## 9. グラフを描く\n",
    "\n",
    "```python\n",
    "# 散布図を描く\n",
    "データフレーム.plot(x=ラベル名, y=ラベル名, kind='scatter')\n",
    "　または\n",
    "データフレーム.plot.scatter(x=ラベル名, y=ラベル名)\n",
    "```\n",
    "\n",
    "---\n",
    "\n",
    "グラフの種類\n",
    "http://pandas.pydata.org/pandas-docs/stable/visualization.html#other-plots"
   ]
  },
  {
   "cell_type": "code",
   "execution_count": null,
   "metadata": {
    "collapsed": true
   },
   "outputs": [],
   "source": [
    "%matplotlib inline\n",
    "# この1行はJupyter Notebook上に図を表示するために必要\n",
    "# （実行環境によっては不要な場合もある）\n",
    "\n",
    "# x軸（横軸）にlogCPM、y軸（縦軸）にlogFCの散布図を作成する\n"
   ]
  },
  {
   "cell_type": "markdown",
   "metadata": {},
   "source": [
    "#### 作図の仕組み\n",
    "Pythonでは、複数のシート（レイヤー）が重なって、一つのグラフが作成されています。  \n",
    "上で使った、plot関数は、複数のレイヤー（グラフ本体や軸、軸ラベル等）を重ねる作業を一つにまとめた関数です。\n",
    "\n",
    "![作図の仕組み](pics/drawing_graph.png \"作図の仕組み\")\n",
    "\n",
    "\n",
    "なお、グラフの上に、もう一つ別のグラフを重ねることも可能です。"
   ]
  },
  {
   "cell_type": "code",
   "execution_count": null,
   "metadata": {
    "collapsed": true
   },
   "outputs": [],
   "source": [
    "# 同じく、x軸にlogCPM、y軸にlogFCの散布図\n",
    "# FDR>=0.05の散布図の上に、FDR<0.05の散布図を重ねる\n"
   ]
  },
  {
   "cell_type": "markdown",
   "metadata": {},
   "source": [
    "<a name=\"link10\"></a>\n",
    "## 10. 二つのデータフレームを結合する\n",
    "\n",
    "二つのデータフレームは結合させることも可能です。\n",
    "\n",
    "---\n",
    "\n",
    "```python\n",
    "import pandas as pd\n",
    "\n",
    "# データの読み込み\n",
    "#（データ1 -> df1; データ2 -> df2）\n",
    "df1 = pd.read_csv(データ1)\n",
    "df2 = pd.read_csv(データ2)\n",
    "\n",
    "# データの結合\n",
    "df = pd.merge(df1, df2, left_on=df1[カラム名], right_on=df2[カラム名], how=結合方法)\n",
    "\n",
    "# left_on, right_on には紐付けさせたいカラム名を指定\n",
    "# left_index=True, right_index=True でインデックスを紐付けに使用することも可能\n",
    "\n",
    "# how='left'  <--- 左結合結合\n",
    "# how='right' <--- 右外部結合\n",
    "# how='outer' <--- 完全外部結合\n",
    "# how='inner' <--- 内部結合\n",
    "```"
   ]
  },
  {
   "cell_type": "code",
   "execution_count": null,
   "metadata": {
    "collapsed": true
   },
   "outputs": [],
   "source": [
    "import pandas as pd\n",
    "\n",
    "# データの読み込み\n",
    "df1 = pd.read_csv('./data/DE_results.txt', sep='\\t', header=0, index_col=0)\n",
    "df2 = pd.read_csv('./data/go_annotations.txt', sep='\\t', header=-1, index_col=0, names=['GO'])\n",
    "\n",
    "df1.head()"
   ]
  },
  {
   "cell_type": "code",
   "execution_count": null,
   "metadata": {
    "collapsed": true
   },
   "outputs": [],
   "source": [
    "df2.head()"
   ]
  },
  {
   "cell_type": "code",
   "execution_count": null,
   "metadata": {
    "collapsed": true
   },
   "outputs": [],
   "source": [
    "# インデックス名で左外部結合\n",
    "df = pd.merge(df1, df2, left_index=True, right_index=True, how='left')\n",
    "df # 表示"
   ]
  }
 ],
 "metadata": {
  "anaconda-cloud": {},
  "kernelspec": {
   "display_name": "Python [anaconda3-4.1.1]",
   "language": "python",
   "name": "Python [anaconda3-4.1.1]"
  },
  "language_info": {
   "codemirror_mode": {
    "name": "ipython",
    "version": 3
   },
   "file_extension": ".py",
   "mimetype": "text/x-python",
   "name": "python",
   "nbconvert_exporter": "python",
   "pygments_lexer": "ipython3",
   "version": "3.5.5"
  }
 },
 "nbformat": 4,
 "nbformat_minor": 1
}
