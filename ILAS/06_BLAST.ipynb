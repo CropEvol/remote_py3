{
 "cells": [
  {
   "cell_type": "markdown",
   "metadata": {},
   "source": [
    "# BLASTを使う & 他者の作成したプログラムを使う\n",
    "\n",
    "## 1. BLASTを使ってみる\n",
    "\n",
    "[BLAST](https://blast.ncbi.nlm.nih.gov/Blast.cgi \"NCBIのBLAST\")...NCBIの提供するBLASTへのリンク\n",
    "\n",
    "※[NCBI](https://www.ncbi.nlm.nih.gov \"NCBI\")...分子生物学やバイオインフォマティクスの研究に用いられるデータベースが公開されている\n",
    "\n",
    "| プログラムの種類 | 質問配列(Query) | 検索対象 |\n",
    "|:-----------:|:------------:|:------------:|\n",
    "| blastn | 塩基配列 | 塩基配列 |\n",
    "| blastp | アミノ酸配列 | アミノ酸配列 |\n",
    "| blastx | 塩基配列 | アミノ酸配列 |\n",
    "| tblastn | アミノ酸配列 | 塩基配列 |\n",
    "| tblastx | 塩基配列(を翻訳する) | 翻訳された塩基配列 |\n",
    "\n",
    "\n",
    "例：以下の塩基配列をBLASTにかけてみましょう。<br>\n",
    "塩基配列なので、blastnもしくはblastx,tblastxが利用できます。<br>\n",
    "(※プログラムによっては少し時間がかかる場合があります。)\n",
    "\n",
    "GCAGGCTGCTGGGAGGCAGGCAGCGACTTGGGCCTGGGAGGTCGTGGTGGGGCGAGAGCTGGGTCTGGAG\n",
    "ACACCCCTGGGAGGTAACAGCGGGGCCTACAGACTCTGTTCTCCAGCCGGAGGTGGTACTGTTCAGGTAC\n",
    "TGGGAGGCGGGATGTGGGTCTGAAGAGCTTGGTTGCAGAAACTTCGGGGTGTACAAACGCAGGCGGGAGC\n",
    "TGAGCCAAAAAAGCTTGTTTGCTGGGAGGCGGGAGATGCAACCAGGAGAAACAGCTGTGCCTGCAGAGGC\n",
    "CGCCATGTGGGAGGCGGAGGCCGGGCCTCCTCAAATCGGCCTCTCCAGACCCACTTGCAGCCTCCCGGCG\n",
    "\n",
    "設定はデフォルトのままで大丈夫です\n",
    "<img src=\"pics/blast.png\" width=60%>"
   ]
  },
  {
   "cell_type": "markdown",
   "metadata": {},
   "source": [
    "　一つの配列だけをBLASTにかけるのであれば、試しにやって頂いた様にWebブラウザ上での手作業で済みますが、<br>\n",
    "配列の数が10種類、100種類...1000種類と増えれば増えるほど手作業で全てBLASTすることは難しくなってきます。\n",
    "\n",
    "　NCBIではこの様な場合に向け、BLASTやデータベースの検索をプログラムから操作できる方法が提供されています。<br>\n",
    "[NCBI Developer Resources](https://www.ncbi.nlm.nih.gov/pmc/tools/developers/ \"NCBI Developer Resources\")\n",
    "\n",
    "　この様なプログラムを扱うことができれば、大量のデータ分析や検索の自動化が可能になります。<br>\n",
    "流石に上述したNCBI Developer Resourcesをいきなり理解し、利用するのは難しいと思いますので、<br>\n",
    "今回は、こちらでBLASTを行うことが出来るプログラムを作成しておいたので、それを利用する形にします。\n",
    "\n",
    "　実際に皆さんがデータ分析をする際にはBLAST以外にもこちらで作成した分析プログラムやツールを使うことがあるかもしれないので、<br>\n",
    "他者の作成したプログラムを使う方法を学んでおきます。"
   ]
  },
  {
   "cell_type": "markdown",
   "metadata": {
    "collapsed": true
   },
   "source": [
    "## 2. 他者の作成したプログラムを使う\n",
    "\n",
    "\n",
    "　ILASフォルダの中にsample.pyと言うプログラムが作成されています。<br>\n",
    "実際に見ると分かりますが、sample.pyの中では、`kansuu_1()`と言う関数と、`kansuu_2()`という関数が定義されています。\n",
    "\n",
    "このプログラムを別のファイルで使いたい場合、\n",
    "\n",
    "```python\n",
    "import sample          # sample.pyのsampleの部分\n",
    "```\n",
    "と記し、kansuu_1()を使いたければ以下の様に記述します。\n",
    "```python\n",
    "sample.kansuu_1()      # sample.pyのkansuu_1()を取り出す\n",
    "```"
   ]
  },
  {
   "cell_type": "code",
   "execution_count": null,
   "metadata": {
    "collapsed": true
   },
   "outputs": [],
   "source": [
    "import sample\n",
    "\n",
    "sample.kansuu_1()\n",
    "sample.kansuu_2(\"test\")"
   ]
  },
  {
   "cell_type": "markdown",
   "metadata": {},
   "source": [
    "#### BLASTをpythonから使う\n",
    "それでは、BLASTをプログラムから利用できる様に、remote_ncbi.pyと言うプログラムをこちらで用意したので、使ってみましょう。\n",
    "(※)\n",
    "\n",
    "remote_ncbi.pyには、ncbi_blast(blast, sequence)と言う関数が書かれています。<br>\n",
    "blastにはプログラムの種類(blastnやblastx等)、sequenceには塩基配列を入れます。<br>\n",
    "この関数を動かすと、BLAST結果がtxtファイルとして保存されます。\n",
    "\n",
    "例)\n",
    "```python\n",
    "import remote_ncbi\n",
    "\n",
    "remote_ncbi.ncbi_blast(\"blastn\", \"ATGCATCGATCG...\")\n",
    "```"
   ]
  },
  {
   "cell_type": "code",
   "execution_count": null,
   "metadata": {},
   "outputs": [],
   "source": [
    "import remote_ncbi as rn    # import remote_ncbi as xxx とすると、以降xxxでremote_ncbiを利用できる\n",
    "\n",
    "sequence = \"GCAGGCTGCTGGGAGGCAGGCAGCGACTTGGGCCTGGGAGGTCGTGGTGGGGCGAGAGCTGGGTCTGGAGACACCCCTGGGAGGTAACAGCGGGGCCTACAGACTCTGTTCTCCAGCCGGAGGTGGTACTGTTCAGGTACTGGGAGGCGGGATGTGGGTCTGAAGAGCTTGGTTGCAGAAACTTCGGGGTGTACAAACGCAGGCGGGAGCTGAGCCAAAAAAGCTTGTTTGCTGGGAGGCGGGAGATGCAACCAGGAGAAACAGCTGTGCCTGCAGAGGCCGCCATGTGGGAGGCGGAGGCCGGGCCTCCTCAAATCGGCCTCTCCAGACCCACTTGCAGCCTCCCGGCG\"\n",
    "rn.ncbi_blast(\"blastn\", sequence)"
   ]
  },
  {
   "cell_type": "markdown",
   "metadata": {},
   "source": [
    "#### 大量の配列をBLASTにかける場合\n",
    "　手作業では数日かかる程多くの配列をBLASTにかけるような場合は、プログラムで自動化することは有意義ですが、<br>\n",
    "少量であればweb上で設定を細かく指定して一つ一つBLASTにかけた方が良いかもしれません。状況に応じてプログラムの利用を検討してみてください。"
   ]
  },
  {
   "cell_type": "code",
   "execution_count": null,
   "metadata": {},
   "outputs": [],
   "source": [
    "import remote_ncbi as rn\n",
    "import pandas as pd\n",
    "\n",
    "df = pd.read_csv('./data/20_sequences.txt', sep='\\t', header=-1, index_col=0, names=['sequence'])\n",
    "all_sequence = df[\"sequence\"]\n",
    "\n",
    "for sequence in all_sequence:\n",
    "    rn.ncbi_blast(\"blastn\", str(sequence))"
   ]
  },
  {
   "cell_type": "code",
   "execution_count": null,
   "metadata": {
    "collapsed": true
   },
   "outputs": [],
   "source": []
  }
 ],
 "metadata": {
  "anaconda-cloud": {},
  "kernelspec": {
   "display_name": "Python 3",
   "language": "python",
   "name": "python3"
  },
  "language_info": {
   "codemirror_mode": {
    "name": "ipython",
    "version": 3
   },
   "file_extension": ".py",
   "mimetype": "text/x-python",
   "name": "python",
   "nbconvert_exporter": "python",
   "pygments_lexer": "ipython3",
   "version": "3.6.5"
  }
 },
 "nbformat": 4,
 "nbformat_minor": 1
}
