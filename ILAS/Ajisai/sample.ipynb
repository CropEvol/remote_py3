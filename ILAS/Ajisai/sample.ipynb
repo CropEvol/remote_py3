{
 "cells": [
  {
   "cell_type": "markdown",
   "metadata": {},
   "source": [
    "## サンプル集\n",
    "相関係数を求めるコードなど、いくつか使えそうなものを載せておきます。\n",
    "- 相関係数を求める\n",
    "- 片方でのみ発現した遺伝子に絞る\n",
    "- 葉緑体の遺伝子にヒットしたかどうか\n",
    "- 遺伝子のBLAST検索結果を表の時点で全部見たい(DEGs_BLAST.txtで遺伝子名検索が煩わしい時に)"
   ]
  },
  {
   "cell_type": "code",
   "execution_count": null,
   "metadata": {},
   "outputs": [],
   "source": [
    "# データの読み込み\n",
    "# ファイル名\n",
    "RES_FILE = 'DE_result.txt'  # 遺伝子発現量・比較結果\n",
    "BST_FILE = 'DEGs_BLAST.txt' # 詳細情報リスト（BLAST結果）\n",
    "GO_FILE  = 'DEGs_GO.txt'    # GO_IDリスト\n",
    "\n",
    "# パッケージやツールをインポート\n",
    "import pandas as pd\n",
    "import matplotlib.pyplot as plt\n",
    "%matplotlib inline\n",
    "\n",
    "# 読み込み\n",
    "RES = pd.read_csv(RES_FILE, sep='\\t', header=0,  index_col=0)\n",
    "BST = pd.read_csv(BST_FILE, sep='\\t', header=0,  index_col=0)\n",
    "GO  = pd.read_csv(GO_FILE, sep='\\t', header=-1, index_col=0, names=['GO'])"
   ]
  },
  {
   "cell_type": "markdown",
   "metadata": {},
   "source": [
    "### 相関係数を求める\n",
    "まずは図として、反復間のデータの相関を見てみる。<br>\n",
    "極端に高い値などが含まれていると、それにつられて相関係数が高くなっている場合もあるので、<br>\n",
    "その場合はその値を除いた上で作図・相関係数の計算を行ってみる。"
   ]
  },
  {
   "cell_type": "code",
   "execution_count": null,
   "metadata": {},
   "outputs": [],
   "source": [
    "# まずは散布図で見てみる。緑のサンプル間での相関の様子\n",
    "plt.scatter(RES[\"green_1\"], RES[\"green_2\"])\n",
    "plt.xlabel(\"green_1\")\n",
    "plt.ylabel(\"green_2\")\n",
    "plt.show()\n",
    "\n",
    "# 相関係数を求める\n",
    "import scipy.stats\n",
    "PCC = scipy.stats.pearsonr(RES[\"green_1\"], RES[\"green_2\"]) # scipy.stats.pearsonr(x, y)でxとyの相関係数が求まります。\n",
    "print(\"green_1とgreen_2の相関係数は\", PCC[0])"
   ]
  },
  {
   "cell_type": "code",
   "execution_count": null,
   "metadata": {},
   "outputs": [],
   "source": [
    "# まずは散布図で見てみる。白色のサンプル間での相関の様子\n",
    "plt.scatter(RES[\"white_1\"], RES[\"white_2\"])\n",
    "plt.xlabel(\"white_1\")\n",
    "plt.ylabel(\"white_2\")\n",
    "plt.show()\n",
    "\n",
    "# 相関係数を求める\n",
    "import scipy.stats\n",
    "PCC = scipy.stats.pearsonr(RES[\"white_1\"], RES[\"white_2\"])\n",
    "print(\"white_1とwhite_2の相関係数は\", PCC[0])"
   ]
  },
  {
   "cell_type": "code",
   "execution_count": null,
   "metadata": {},
   "outputs": [],
   "source": [
    "sorted_RES = RES.sort_values('green_1', ascending=False) # green_1の高い順に並べる\n",
    "removed_1st_RES = sorted_RES[1:] # 一番高いものの次からのデータセットを取得\n",
    "plt.scatter(removed_1st_RES[\"green_1\"], removed_1st_RES[\"green_2\"])\n",
    "plt.xlabel(\"green_1\")\n",
    "plt.ylabel(\"green_2\")\n",
    "plt.show()\n",
    "\n",
    "# 相関係数を求める\n",
    "import scipy.stats\n",
    "PCC = scipy.stats.pearsonr(removed_1st_RES[\"green_1\"], removed_1st_RES[\"green_2\"])\n",
    "print(\"極端な値を除いたgreen_1とgreen_2の相関係数は\", PCC[0])"
   ]
  },
  {
   "cell_type": "code",
   "execution_count": null,
   "metadata": {},
   "outputs": [],
   "source": [
    "sorted_RES = RES.sort_values('white_1', ascending=False) # white_1の高い順に並べる\n",
    "removed_1st_RES = sorted_RES[1:] # 一番高いものの次からのデータセットを取得\n",
    "plt.scatter(removed_1st_RES[\"white_1\"], removed_1st_RES[\"white_2\"])\n",
    "plt.xlabel(\"white_1\")\n",
    "plt.ylabel(\"white_2\")\n",
    "plt.show()\n",
    "\n",
    "# 相関係数を求める\n",
    "import scipy.stats\n",
    "PCC = scipy.stats.pearsonr(removed_1st_RES[\"white_1\"], removed_1st_RES[\"white_2\"])\n",
    "print(\"極端な値を除いたwhite_1とwhite_2の相関係数は\", PCC[0])"
   ]
  },
  {
   "cell_type": "markdown",
   "metadata": {},
   "source": [
    "## 片方でのみ発現した遺伝子に絞る\n",
    "whiteのみで発現している遺伝子やgreenのみで発現している遺伝子。<br>\n",
    "また、whiteのみで発現している遺伝子の中で、BLAST検索であるキーワードが含まれていたものに絞った遺伝子など。<br>"
   ]
  },
  {
   "cell_type": "code",
   "execution_count": null,
   "metadata": {},
   "outputs": [],
   "source": [
    "# whiteでのみ発現している遺伝子を表示\n",
    "RES[(RES[\"green_1\"] == 0) & (RES[\"green_2\"] == 0)]"
   ]
  },
  {
   "cell_type": "code",
   "execution_count": null,
   "metadata": {},
   "outputs": [],
   "source": [
    "# greenでのみ発現している遺伝子を表示\n",
    "RES[(RES[\"white_1\"] == 0) & (RES[\"white_2\"] == 0)]"
   ]
  },
  {
   "cell_type": "markdown",
   "metadata": {},
   "source": [
    "### 片方で発現しており、かつ、BLAST結果に検索ワードを含む遺伝子を表示"
   ]
  },
  {
   "cell_type": "code",
   "execution_count": null,
   "metadata": {},
   "outputs": [],
   "source": [
    "# 検索ワード\n",
    "KEYWORD = 'chloro'\n",
    "\n",
    "# 発現量に差があった遺伝子\n",
    "sub = RES[RES['FDR']<0.05]\n",
    "\n",
    "# サンプルwhite or greenでのみ発現していた遺伝子\n",
    "subA = sub[(sub[\"green_1\"] == 0) & (sub[\"green_2\"] == 0)]\n",
    "subB = sub[(sub[\"white_1\"] == 0) & (sub[\"white_2\"] == 0)]\n",
    "\n",
    "# サンプルwhiteでのみ発現した遺伝子のBLAST情報\n",
    "subA_BST = pd.merge(subA, BST, left_index=True, right_index=True, how='left')\n",
    "subA_BST[ subA_BST['sprot_Top_BLASTX_hit'].str.contains(KEYWORD) ]"
   ]
  },
  {
   "cell_type": "code",
   "execution_count": null,
   "metadata": {},
   "outputs": [],
   "source": [
    "# サンプルgreenでのみ発現した遺伝子のBLAST情報\n",
    "subB_BST = pd.merge(subB, BST, left_index=True, right_index=True, how='left')\n",
    "subB_BST[ subB_BST['sprot_Top_BLASTX_hit'].str.contains(KEYWORD) ]"
   ]
  },
  {
   "cell_type": "markdown",
   "metadata": {},
   "source": [
    "## 葉緑体の遺伝子にヒットしたかどうか"
   ]
  },
  {
   "cell_type": "code",
   "execution_count": null,
   "metadata": {},
   "outputs": [],
   "source": [
    "# 葉緑体遺伝子にヒットした遺伝子のみ表示\n",
    "RES[RES[\"chloroplast\"] != \".\"] # chroloplastの列で\".\"となっていないものを表示"
   ]
  },
  {
   "cell_type": "code",
   "execution_count": null,
   "metadata": {},
   "outputs": [],
   "source": [
    "# 発現量に差があった遺伝子\n",
    "sub = RES[RES['FDR']<0.05]\n",
    "\n",
    "# サンプルwhite or greenでのみ発現していた遺伝子\n",
    "subA = sub[(sub[\"green_1\"] == 0) & (sub[\"green_2\"] == 0)]\n",
    "subB = sub[(sub[\"white_1\"] == 0) & (sub[\"white_2\"] == 0)]\n",
    "\n",
    "# whiteでのみ発現し、葉緑体にヒットした遺伝子\n",
    "subA[subA[\"chloroplast\"] != \".\"]"
   ]
  },
  {
   "cell_type": "code",
   "execution_count": null,
   "metadata": {},
   "outputs": [],
   "source": [
    "# greenでのみ発現し、葉緑体にヒットした遺伝子\n",
    "subB[subB[\"chloroplast\"] != \".\"]"
   ]
  },
  {
   "cell_type": "markdown",
   "metadata": {},
   "source": [
    "## 遺伝子のBLAST検索結果を表の時点で全部見たい\n",
    "遺伝子名まで絞り込めたら、BLASTの結果を見たいと思いますが、DEGs_BLAST.txtで遺伝子名で検索して結果を見るというのは煩わしいかと思います。<br>\n",
    "そういった場合に、pandasの設定を変更し、省略されていた全文を表示させることができます。<br>\n",
    "```python\n",
    "pd.set_option(\"display.max_colwidth\", 文字数)\n",
    "```\n",
    "と設定することで、表示できる文字数を増やすことができます。"
   ]
  },
  {
   "cell_type": "code",
   "execution_count": null,
   "metadata": {},
   "outputs": [],
   "source": [
    "pd.set_option(\"display.max_colwidth\", 50)\n",
    "# 調べたい遺伝子名\n",
    "gene_name = \"TRINITY_DN21887_c2_g6\"\n",
    "\n",
    "data = BST[BST.index == gene_name]\n",
    "print(\"普通に表示した場合…\")\n",
    "print(data[\"sprot_Top_BLASTX_hit\"], \"\\n\")\n",
    "\n",
    "# 表示できる文字数を1000文字に拡張すると(最初は50)\n",
    "pd.set_option(\"display.max_colwidth\", 2000) # 2000文字に拡張するコード\n",
    "print(\"表示文字数を増やすと…\")\n",
    "print(data[\"sprot_Top_BLASTX_hit\"])"
   ]
  },
  {
   "cell_type": "code",
   "execution_count": null,
   "metadata": {},
   "outputs": [],
   "source": [
    "# whiteでのみ発現している遺伝子を表示文字数を増やして表示してみると\n",
    "pd.set_option(\"display.max_colwidth\", 2000) # 2000文字に拡張するコード\n",
    "\n",
    "# 検索ワード\n",
    "KEYWORD = 'chloro'\n",
    "\n",
    "# 発現量に差があった遺伝子\n",
    "sub = RES[RES['FDR']<0.05]\n",
    "\n",
    "# サンプルwhite or greenでのみ発現していた遺伝子\n",
    "subA = sub[(sub[\"green_1\"] == 0) & (sub[\"green_2\"] == 0)]\n",
    "\n",
    "# サンプルwhiteでのみ発現した遺伝子のBLAST情報で、検索ワードを含むもの\n",
    "subA_BST = pd.merge(subA, BST, left_index=True, right_index=True, how='left')\n",
    "subA_BST[ subA_BST['sprot_Top_BLASTX_hit'].str.contains(KEYWORD) ]"
   ]
  },
  {
   "cell_type": "code",
   "execution_count": null,
   "metadata": {
    "collapsed": true
   },
   "outputs": [],
   "source": [
    "# 元に戻す場合はこれを動かす\n",
    "pd.set_option(\"display.max_colwidth\", 50)"
   ]
  },
  {
   "cell_type": "code",
   "execution_count": null,
   "metadata": {
    "collapsed": true
   },
   "outputs": [],
   "source": []
  }
 ],
 "metadata": {
  "kernelspec": {
   "display_name": "Python 3",
   "language": "python",
   "name": "python3"
  },
  "language_info": {
   "codemirror_mode": {
    "name": "ipython",
    "version": 3
   },
   "file_extension": ".py",
   "mimetype": "text/x-python",
   "name": "python",
   "nbconvert_exporter": "python",
   "pygments_lexer": "ipython3",
   "version": "3.6.5"
  }
 },
 "nbformat": 4,
 "nbformat_minor": 2
}
