{
 "cells": [
  {
   "cell_type": "markdown",
   "metadata": {},
   "source": [
    "## データファイルの読み込み\n",
    "- 遺伝子発現量・比較結果のファイル\n",
    "- 遺伝子の詳細情報リスト（BLAST結果）\n",
    "- 遺伝子のGO_IDリスト"
   ]
  },
  {
   "cell_type": "code",
   "execution_count": null,
   "metadata": {
    "scrolled": false
   },
   "outputs": [],
   "source": [
    "# ファイル名\n",
    "RES_FILE = 'DE_result.txt'  # 遺伝子発現量・比較結果\n",
    "BST_FILE = 'DEGs_BLAST.txt' # 詳細情報リスト（BLAST結果）\n",
    "GO_FILE  = 'DEGs_GO.txt'    # GO_IDリスト"
   ]
  },
  {
   "cell_type": "code",
   "execution_count": null,
   "metadata": {},
   "outputs": [],
   "source": [
    "# パッケージやツールをインポート\n",
    "import pandas as pd\n",
    "%matplotlib inline\n",
    "\n",
    "# 読み込み\n",
    "RES = pd.read_csv(RES_FILE, sep='\\t', header=0,  index_col=0)\n",
    "BST = pd.read_csv(BST_FILE, sep='\\t', header=0,  index_col=0)\n",
    "GO  = pd.read_csv(GO_FILE, sep='\\t', header=-1, index_col=0, names=['GO'])"
   ]
  },
  {
   "cell_type": "markdown",
   "metadata": {},
   "source": [
    "## 集計\n",
    "- 遺伝子総数      : 調査した遺伝子数\n",
    "- 発現変動遺伝子数 : 発現量に差があった遺伝子数（FDR<0.05）\n",
    "- サンプルA高発現  : サンプルAで多く発現していた遺伝子数（FDR<0.05 & logFC>0）\n",
    "- サンプルB高発現  : サンプルBで多く発現していた遺伝子数（FDR<0.05 & logFC<0）"
   ]
  },
  {
   "cell_type": "code",
   "execution_count": null,
   "metadata": {},
   "outputs": [],
   "source": [
    "# 比較した遺伝子数\n",
    "print('遺伝子総数:', len(RES))  \n",
    "\n",
    "# 発現量に差があった遺伝子数\n",
    "sub = RES[RES['FDR']<0.05]\n",
    "print('発現変動遺伝子数:', len(sub))\n",
    "\n",
    "# サンプルAで多く発現していた遺伝子数\n",
    "subA = sub[sub['logFC']>0]\n",
    "subB = sub[sub['logFC']<0]\n",
    "print('サンプルA高発現:', len(subA))\n",
    "print('サンプルB高発現:', len(subB))\n",
    "\n",
    "# 棒グラフ\n",
    "def bar_plot(df, log_scale=False):\n",
    "    from matplotlib import pyplot as plt\n",
    "    plt.style.use('ggplot')\n",
    "    \n",
    "    non = len(df) - len(df[df['FDR']<0.05])\n",
    "    upA = len(df[(df['FDR']<0.05) & (df['logFC']>0)])\n",
    "    upB = len(df[(df['FDR']<0.05) & (df['logFC']<0)])\n",
    "    \n",
    "    G = plt.bar(\n",
    "        x      = ['High-A', 'High-B', 'non-DEGs'],\n",
    "        height = [upA, upB, non], \n",
    "        align  = \"center\",\n",
    "        log    = log_scale,\n",
    "        facecolor='#9999ff',\n",
    "        edgecolor='white',\n",
    "    )\n",
    "    \n",
    "    # フォントサイズ\n",
    "    plt.tick_params(labelsize=18)\n",
    "    \n",
    "    # カウント追加\n",
    "    plt.text(0, upA*1.2, '%d'%upA, ha='center', va='bottom', size=18)\n",
    "    plt.text(1, upB*1.2, '%d'%upB, ha='center', va='bottom', size=18)\n",
    "    plt.text(2, non*0.9, '%d'%non, ha='center', va='bottom', size=18)\n",
    "    # タイトル部分に遺伝子総数\n",
    "    plt.title('Total: %d genes'%len(df), size=18)\n",
    "\n",
    "bar_plot(RES)"
   ]
  },
  {
   "cell_type": "markdown",
   "metadata": {},
   "source": [
    "## ワード検索"
   ]
  },
  {
   "cell_type": "code",
   "execution_count": null,
   "metadata": {},
   "outputs": [],
   "source": [
    "# 検索ワード\n",
    "KEYWORD = 'resistance'\n",
    "\n",
    "# サンプルA高発現遺伝子のBLAST情報\n",
    "subA_BST = pd.merge(subA, BST, left_index=True, right_index=True, how='left')\n",
    "subA_BST[ subA_BST['sprot_Top_BLASTX_hit'].str.contains(KEYWORD) ]"
   ]
  },
  {
   "cell_type": "code",
   "execution_count": null,
   "metadata": {},
   "outputs": [],
   "source": [
    "# サンプルB高発現遺伝子のBLAST情報\n",
    "subB_BST = pd.merge(subB, BST, left_index=True, right_index=True, how='left')\n",
    "subB_BST[ subB_BST['sprot_Top_BLASTX_hit'].str.contains(KEYWORD) ]"
   ]
  },
  {
   "cell_type": "markdown",
   "metadata": {},
   "source": [
    "## 出現GO Term カウント"
   ]
  },
  {
   "cell_type": "code",
   "execution_count": null,
   "metadata": {},
   "outputs": [],
   "source": [
    "# カウント関数\n",
    "def count_go(df):\n",
    "    import pandas as pd\n",
    "    \n",
    "    # All Go terms put into one list, \"all_GO\".\n",
    "    # Some GO terms are duplicated in the \"all_GO\".\n",
    "    all_GO = []\n",
    "    for each_GOs in df[\"GO\"]:\n",
    "        GO_list = each_GOs.split(\",\")\n",
    "        all_GO.extend(GO_list)\n",
    "\n",
    "    # Counting GO terms using Pandas series\n",
    "    result = pd.Series(all_GO).value_counts()\n",
    "\n",
    "    return pd.DataFrame(result, columns=['count'])\n",
    "\n",
    "# サンプルA高発現遺伝子のGO Termリスト\n",
    "subA_GO = pd.merge(subA, GO, left_index=True, right_index=True, how='inner')\n",
    "subB_GO = pd.merge(subB, GO, left_index=True, right_index=True, how='inner')\n",
    "\n",
    "subA_CNT = count_go(subA_GO)\n",
    "subA_CNT.columns = ['sampleA']\n",
    "subB_CNT = count_go(subB_GO)\n",
    "subB_CNT.columns = ['sampleB']\n",
    "\n",
    "COUNT = pd.merge(subA_CNT, subB_CNT, left_index=True, right_index=True, how='outer').fillna(0)\n",
    "\n",
    "# ファイル書き込み\n",
    "COUNT.to_csv('DEGs_GO_count.txt', sep='\\t', header=True, index=True)\n",
    "\n",
    "# 表示（最初の10行）\n",
    "COUNT.head(10)"
   ]
  },
  {
   "cell_type": "code",
   "execution_count": null,
   "metadata": {},
   "outputs": [],
   "source": []
  }
 ],
 "metadata": {
  "kernelspec": {
   "display_name": "Python 3",
   "language": "python",
   "name": "python3"
  },
  "language_info": {
   "codemirror_mode": {
    "name": "ipython",
    "version": 3
   },
   "file_extension": ".py",
   "mimetype": "text/x-python",
   "name": "python",
   "nbconvert_exporter": "python",
   "pygments_lexer": "ipython3",
   "version": "3.5.2"
  }
 },
 "nbformat": 4,
 "nbformat_minor": 2
}
