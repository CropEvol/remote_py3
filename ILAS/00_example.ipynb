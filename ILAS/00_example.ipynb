{
 "cells": [
  {
   "cell_type": "markdown",
   "metadata": {},
   "source": [
    "# プログラミングで何ができるか？\n",
    "- データ解析（グラフ化、統計処理）  \n",
    "    * グラフ作成 [matplotlibギャラリー](https://matplotlib.org/gallery/index.html)\n",
    "    * 統計処理\n",
    "    * [機械学習/ディープラーニング](https://www.amazon.co.jp/s/ref=nb_sb_noss/358-9795876-6852603?__mk_ja_JP=%E3%82%AB%E3%82%BF%E3%82%AB%E3%83%8A&url=search-alias%3Dstripbooks&field-keywords=%E6%A9%9F%E6%A2%B0%E5%AD%A6%E7%BF%92&rh=n%3A465392%2Ck%3A%E6%A9%9F%E6%A2%B0%E5%AD%A6%E7%BF%92)\n",
    "    * モデリング\n",
    "    * シミュレーション\n",
    "    * ルーチンワークの自動化 => 大規模なデータ処理\n",
    "\n",
    "\n",
    "- 各種開発\n",
    "    * [アプリケーション開発](https://www.amazon.co.jp/s/ref=nb_sb_ss_ime_i_4_8/358-9795876-6852603?__mk_ja_JP=%E3%82%AB%E3%82%BF%E3%82%AB%E3%83%8A&url=search-alias%3Dstripbooks&field-keywords=%E3%82%A2%E3%83%97%E3%83%AA%E3%82%B1%E3%83%BC%E3%82%B7%E3%83%A7%E3%83%B3%E3%83%97%E3%83%AD%E3%82%B0%E3%83%A9%E3%83%9F%E3%83%B3%E3%82%B0&sprefix=%E3%82%A2%E3%83%97%E3%83%AA%E3%82%B1%E3%83%BC%E3%82%B7%E3%83%A7%E3%83%B3%2Cundefined%2C256&crid=1RLVDT5PKY1EQ&rh=n%3A465392%2Ck%3A%E3%82%A2%E3%83%97%E3%83%AA%E3%82%B1%E3%83%BC%E3%82%B7%E3%83%A7%E3%83%B3%E3%83%97%E3%83%AD%E3%82%B0%E3%83%A9%E3%83%9F%E3%83%B3%E3%82%B0)\n",
    "    * [Web開発](https://www.amazon.co.jp/s/ref=nb_sb_noss_2?__mk_ja_JP=%E3%82%AB%E3%82%BF%E3%82%AB%E3%83%8A&url=search-alias%3Daps&field-keywords=Web%E3%83%97%E3%83%AD%E3%82%B0%E3%83%A9%E3%83%9F%E3%83%B3%E3%82%B0&rh=i%3Aaps%2Ck%3AWeb%E3%83%97%E3%83%AD%E3%82%B0%E3%83%A9%E3%83%9F%E3%83%B3%E3%82%B0)\n",
    "    * [ゲーム開発](https://www.amazon.co.jp/%E3%82%B2%E3%83%BC%E3%83%A0%E3%83%97%E3%83%AD%E3%82%B0%E3%83%A9%E3%83%9F%E3%83%B3%E3%82%B0-Python-%E3%83%97%E3%83%AD%E3%82%B0%E3%83%A9%E3%83%9F%E3%83%B3%E3%82%B0/s?ie=UTF8&page=1&rh=n%3A3229700051%2Cp_n_feature_seven_browse-bin%3A3232405051)\n",
    "    * [機械の制御プログラム開発](https://www.amazon.co.jp/s/ref=nb_sb_noss/358-9795876-6852603?__mk_ja_JP=%E3%82%AB%E3%82%BF%E3%82%AB%E3%83%8A&url=search-alias%3Dstripbooks&field-keywords=%E5%88%B6%E5%BE%A1%E3%83%97%E3%83%AD%E3%82%B0%E3%83%A9%E3%83%9F%E3%83%B3%E3%82%B0&rh=n%3A465392%2Ck%3A%E5%88%B6%E5%BE%A1%E3%83%97%E3%83%AD%E3%82%B0%E3%83%A9%E3%83%9F%E3%83%B3%E3%82%B0)\n",
    "\n",
    "\n",
    "# プログラミング言語と主な用途\n",
    "- Python: 小規模〜大規模データ解析、機械学習/ディープラーニング\n",
    "- R: データ解析\n",
    "- C言語系：制御プログラム開発、機械学習/ディープラーニング\n",
    "- Swift: Apple系のアプリケーション開発\n",
    "- Ruby: Webアプリケーション開発\n",
    "- PHP: Webアプリケーション開発\n",
    "- JavaScript: Web開発\n",
    "- Perl: 文字列操作\n",
    "- Shell Script: 解析等の自動化\n",
    "\n",
    "# プログラミングと生物学\n",
    "- データ解析（グラフ作成、統計処理、シミュレーションなど）\n",
    "- 解析の自動化  \n",
    "　生データ => ソフトA => ソフトB => ソフトC => 最終結果\n",
    "\n",
    "生物学データ（DNA配列や遺伝子発現データなど）を解析する分野 => __バイオインフォマティクス__ \n"
   ]
  },
  {
   "cell_type": "markdown",
   "metadata": {},
   "source": [
    "# [例] 測定データのグラフ化\n",
    "\n",
    "4種のアヤメ(Iris)について、花弁の長さ・幅、萼片の長さ・幅を測定したデータをグラフ化する。\n"
   ]
  },
  {
   "cell_type": "code",
   "execution_count": null,
   "metadata": {},
   "outputs": [],
   "source": [
    "%matplotlib inline\n",
    "import pandas as pd\n",
    "import seaborn as sns\n",
    "sns.set(style=\"whitegrid\", palette=\"muted\")\n",
    "\n",
    "# Load the example iris dataset\n",
    "iris = sns.load_dataset(\"iris\")\n",
    "\n",
    "# \"Melt\" the dataset to \"long-form\" or \"tidy\" representation\n",
    "iris = pd.melt(iris, \"species\", var_name=\"measurement\")\n",
    "\n",
    "# Draw a categorical scatterplot to show each observation\n",
    "sns.swarmplot(x=\"measurement\", y=\"value\", hue=\"species\", data=iris)"
   ]
  },
  {
   "cell_type": "markdown",
   "metadata": {},
   "source": [
    "# [例] サンプル間遺伝子発現比較\n",
    "\n",
    "2サンプル間（種Aと種B）の遺伝子発現量を比較する。  \n",
    "（遺伝子発現量データとして、ランダムに発生させた数値データを用いています）\n",
    "\n",
    "t検定（平均値の差の検定）"
   ]
  },
  {
   "cell_type": "code",
   "execution_count": null,
   "metadata": {
    "scrolled": true
   },
   "outputs": [],
   "source": [
    "### データファイル読み込み\n",
    "\n",
    "import pandas as pd\n",
    "\n",
    "df = pd.read_csv(\"data/gene_expression.txt\", sep=\"\\t\", header=0, index_col=0)\n",
    "df"
   ]
  },
  {
   "cell_type": "code",
   "execution_count": null,
   "metadata": {},
   "outputs": [],
   "source": [
    "### 統計処理\n",
    "\n",
    "import scipy.stats as stats\n",
    "\n",
    "P = []\n",
    "for index, row in df.iterrows():\n",
    "    t, p = stats.ttest_ind(row[0:3], row[3:6], equal_var=False)\n",
    "    P.append(p)\n",
    "\n",
    "df['Probability'] = P\n",
    "df"
   ]
  },
  {
   "cell_type": "code",
   "execution_count": null,
   "metadata": {},
   "outputs": [],
   "source": [
    "### データの抽出\n",
    "\n",
    "df[df['Probability'] < 0.05]"
   ]
  },
  {
   "cell_type": "markdown",
   "metadata": {},
   "source": [
    "# [例] ゲノム地図の作成\n",
    "\n",
    "コムギ(Triticum aestivum)葉緑体ゲノム上の遺伝子および制限酵素EcoRI切断部位をプロットする。\n"
   ]
  },
  {
   "cell_type": "code",
   "execution_count": null,
   "metadata": {},
   "outputs": [],
   "source": [
    "### パッケージのインポート\n",
    "from reportlab.lib import colors\n",
    "from reportlab.lib.units import cm\n",
    "from Bio.Graphics import GenomeDiagram\n",
    "from Bio import SeqIO\n",
    "from Bio.SeqFeature import SeqFeature, FeatureLocation\n",
    "from IPython.display import Image, display_png\n",
    "\n",
    "### ファイルの読み込み\n",
    "record = SeqIO.read(\"data/Triticum_aestivum_chloroplast.gb\", \"genbank\")\n",
    "\n",
    "gd_diagram = GenomeDiagram.Diagram(record.id)\n",
    "gd_track_for_features = gd_diagram.new_track(1, name=\"Annotated Features\")\n",
    "gd_feature_set = gd_track_for_features.new_set()\n",
    "\n",
    "### 遺伝子の位置情報を取得\n",
    "for feature in record.features:\n",
    "    if feature.type != \"gene\":\n",
    "        #Exclude this feature\n",
    "        continue\n",
    "    if len(gd_feature_set) % 2 == 0:\n",
    "        color = colors.blue\n",
    "    else:\n",
    "        color = colors.lightblue\n",
    "    gd_feature_set.add_feature(feature, sigil=\"ARROW\",\n",
    "                               color=color, label=True,\n",
    "                               label_size = 14, label_angle=0)\n",
    "\n",
    "### 任意配列の位置情報を取得\n",
    "for site, name, color in [(\"GAATTC\",\"EcoRI\",colors.green),]:\n",
    "    index = 0\n",
    "    while True:\n",
    "        index  = record.seq.find(site, start=index)\n",
    "        if index == -1 : break\n",
    "        feature = SeqFeature(FeatureLocation(index, index+len(site)))\n",
    "        gd_feature_set.add_feature(feature, color=color, name=name,\n",
    "                                   label=True, label_size = 10,\n",
    "                                   label_color=color)\n",
    "        index += len(site)\n",
    "\n",
    "\n",
    "### 描画＆ファイルに出力\n",
    "png_file = \"Triticum_aestivum_chloroplast_map.png\"\n",
    "gd_diagram.draw(format=\"circular\", circular=True, pagesize=(36*cm,36*cm),\n",
    "                start=0, end=len(record), circle_core = 0.8)\n",
    "gd_diagram.write(png_file, \"PNG\")\n",
    "\n",
    "### 表示\n",
    "display_png(Image(png_file))"
   ]
  },
  {
   "cell_type": "code",
   "execution_count": null,
   "metadata": {
    "collapsed": true
   },
   "outputs": [],
   "source": []
  }
 ],
 "metadata": {
  "anaconda-cloud": {},
  "kernelspec": {
   "display_name": "Python [anaconda3-4.1.1]",
   "language": "python",
   "name": "Python [anaconda3-4.1.1]"
  },
  "language_info": {
   "codemirror_mode": {
    "name": "ipython",
    "version": 3
   },
   "file_extension": ".py",
   "mimetype": "text/x-python",
   "name": "python",
   "nbconvert_exporter": "python",
   "pygments_lexer": "ipython3",
   "version": "3.5.2"
  }
 },
 "nbformat": 4,
 "nbformat_minor": 1
}
