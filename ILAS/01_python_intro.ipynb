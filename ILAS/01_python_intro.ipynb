{
 "cells": [
  {
   "cell_type": "markdown",
   "metadata": {},
   "source": [
    "# Pythonプログラミングお試し\n",
    "\n",
    "## Jupyter Notebookの基本\n",
    "- 現在のセルのプログラムを実行する: __Ctrl + Enter__    \n",
    "\n",
    "- 現在のセルのプログラムを実行し、次のセルに移る: __Shift + Enter__  \n",
    "- 直前の動作をやり直す: __Ctrl + Z__ (Macの場合 __command + Z__)    \n",
    "誤ってプログラムを消してしまった場合によく使います。  \n",
    "- その他のショートカットを知りたい場合:  __Help > Keyboard Shortcuts__   \n",
    "- ファイルの名前を変更する: __File > Rename__\n",
    "- ファイルの保存: __File > Save and Checkpoint__"
   ]
  },
  {
   "cell_type": "markdown",
   "metadata": {},
   "source": [
    "## 1. 文字列を出力する\n",
    "\n",
    "下記のPythonコードを書いて、実行してみましょう。  \n",
    "\n",
    "```python\n",
    "print('Hello')\n",
    "```"
   ]
  },
  {
   "cell_type": "code",
   "execution_count": null,
   "metadata": {
    "collapsed": true
   },
   "outputs": [],
   "source": []
  },
  {
   "cell_type": "markdown",
   "metadata": {},
   "source": [
    "## 2. 数字の計算をする\n",
    "\n",
    "Pythonコード\n",
    "```python\n",
    "print(2+3)\n",
    "print('2+3')\n",
    "```"
   ]
  },
  {
   "cell_type": "code",
   "execution_count": null,
   "metadata": {
    "collapsed": true
   },
   "outputs": [],
   "source": []
  },
  {
   "cell_type": "markdown",
   "metadata": {},
   "source": [
    "## 3-1. 変数を使う(1)\n",
    "\n",
    "Pythonコード\n",
    "```python\n",
    "here = 'Kyoto'\n",
    "print(here)\n",
    "\n",
    "here = 'Mozume'\n",
    "print(here)\n",
    "```"
   ]
  },
  {
   "cell_type": "code",
   "execution_count": null,
   "metadata": {
    "collapsed": true
   },
   "outputs": [],
   "source": []
  },
  {
   "cell_type": "markdown",
   "metadata": {},
   "source": [
    "## 3-2. 変数を使う(2)\n",
    "\n",
    "Pythonコード\n",
    "```python\n",
    "x = 2\n",
    "y = 3\n",
    "print(x * y)\n",
    "```"
   ]
  },
  {
   "cell_type": "code",
   "execution_count": null,
   "metadata": {
    "collapsed": true
   },
   "outputs": [],
   "source": []
  },
  {
   "cell_type": "markdown",
   "metadata": {},
   "source": [
    "## 4-1. 複数の計算をする(1)\n",
    "Pythonコード\n",
    "```python\n",
    "x = 0\n",
    "print(x * 47)\n",
    "\n",
    "x = 1\n",
    "print(x * 47)\n",
    "\n",
    "x = 2\n",
    "print(x * 47)\n",
    "\n",
    "x = 3\n",
    "print(x * 47)\n",
    "\n",
    "x = 4\n",
    "print(x * 47)\n",
    "```"
   ]
  },
  {
   "cell_type": "code",
   "execution_count": null,
   "metadata": {
    "collapsed": true
   },
   "outputs": [],
   "source": []
  },
  {
   "cell_type": "markdown",
   "metadata": {},
   "source": [
    "## 4-1. 複数の計算をする(2)\n",
    "Pythonコード\n",
    "```python\n",
    "for x in [0,1,2,3,4]:\n",
    "    print(x * 2)\n",
    "```"
   ]
  },
  {
   "cell_type": "code",
   "execution_count": null,
   "metadata": {
    "collapsed": true
   },
   "outputs": [],
   "source": []
  },
  {
   "cell_type": "markdown",
   "metadata": {},
   "source": [
    "## 4-2. 複数の計算をする(3)\n",
    "Pythonコード\n",
    "```python\n",
    "for x in range(0,4):\n",
    "    print(x * 2)\n",
    "```"
   ]
  },
  {
   "cell_type": "code",
   "execution_count": null,
   "metadata": {
    "collapsed": true
   },
   "outputs": [],
   "source": []
  },
  {
   "cell_type": "markdown",
   "metadata": {},
   "source": [
    "## 5. 特定の条件の時のみ計算する(1)\n",
    "Pythonコード\n",
    "```python\n",
    "for x in range(100):\n",
    "    if x % 9 == 0:\n",
    "        print(x * 2)\n",
    "```"
   ]
  },
  {
   "cell_type": "code",
   "execution_count": null,
   "metadata": {
    "collapsed": true
   },
   "outputs": [],
   "source": []
  },
  {
   "cell_type": "markdown",
   "metadata": {},
   "source": [
    "## 5. 特定の条件の時のみ計算する(2)\n",
    "Pythonコード\n",
    "```python\n",
    "for x in range(100):\n",
    "    if x % 9 == 0:\n",
    "        print(x * 2)\n",
    "    else:\n",
    "        print('---')\n",
    "```"
   ]
  },
  {
   "cell_type": "code",
   "execution_count": null,
   "metadata": {
    "collapsed": true
   },
   "outputs": [],
   "source": []
  },
  {
   "cell_type": "markdown",
   "metadata": {},
   "source": [
    "## 5. 特定の条件の時のみ計算する(3)\n",
    "Pythonコード\n",
    "```python\n",
    "for x in range(100):\n",
    "    if x % 9 == 0:\n",
    "        print(x * 2)\n",
    "    elif x % 5 == 0:\n",
    "        print(x * 3)\n",
    "    else:\n",
    "        print('---')\n",
    "```"
   ]
  },
  {
   "cell_type": "code",
   "execution_count": null,
   "metadata": {
    "collapsed": true
   },
   "outputs": [],
   "source": []
  }
 ],
 "metadata": {
  "anaconda-cloud": {},
  "kernelspec": {
   "display_name": "Python [anaconda3-4.1.1]",
   "language": "python",
   "name": "Python [anaconda3-4.1.1]"
  },
  "language_info": {
   "codemirror_mode": {
    "name": "ipython",
    "version": 3
   },
   "file_extension": ".py",
   "mimetype": "text/x-python",
   "name": "python",
   "nbconvert_exporter": "python",
   "pygments_lexer": "ipython3",
   "version": "3.5.2"
  }
 },
 "nbformat": 4,
 "nbformat_minor": 1
}
