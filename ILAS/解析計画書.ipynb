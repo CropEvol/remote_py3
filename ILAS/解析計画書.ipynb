{
 "cells": [
  {
   "cell_type": "markdown",
   "metadata": {},
   "source": [
    "# 解析計画書 URL\n",
    "- アジサイ斑入り\n",
    "https://docs.google.com/document/d/1TgIDxoUWWRHPrM0eGutgbMV-bOBjYA-XYGdyG-Uv-Q0/edit?usp=sharing\n",
    "\n",
    "- アラカシ紫かび病\n",
    "https://docs.google.com/document/d/1Y4fHYSVHtf7b-yh-DYJ5i8F9RyTNZTbgnf4hxFjIOtY/edit?usp=sharing\n",
    "\n",
    "- イスノキ虫こぶ\n",
    "https://docs.google.com/document/d/111dsn6F2Bji7Y7-9oKeyEJ0Te0gKRZmukJ-Nb9_YoT0/edit?usp=sharing\n",
    "\n",
    "- ダンゴムシ\n",
    "https://docs.google.com/document/d/1ixriNtHyQRJfNMstNjOxk3ROkOJdZW4mU0YOcBlRrto/edit?usp=sharing\n",
    "\n",
    "- ツツジもち病\n",
    "https://docs.google.com/document/d/1fNVZncetMqWhNdCAZdzvEC2ZHTmX84OZgnFZIaFfPa4/edit?usp=sharing"
   ]
  },
  {
   "cell_type": "code",
   "execution_count": null,
   "metadata": {},
   "outputs": [],
   "source": []
  }
 ],
 "metadata": {
  "kernelspec": {
   "display_name": "Python 3",
   "language": "python",
   "name": "python3"
  },
  "language_info": {
   "codemirror_mode": {
    "name": "ipython",
    "version": 3
   },
   "file_extension": ".py",
   "mimetype": "text/x-python",
   "name": "python",
   "nbconvert_exporter": "python",
   "pygments_lexer": "ipython3",
   "version": "3.5.2"
  }
 },
 "nbformat": 4,
 "nbformat_minor": 2
}
