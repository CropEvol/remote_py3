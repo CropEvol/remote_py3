{
 "cells": [
  {
   "cell_type": "markdown",
   "metadata": {},
   "source": [
    "# 大規模データを扱う 2_解答編\n",
    "\n",
    "1. [練習](#link1)\n",
    "\n",
    "<a name=\"link1\"></a>\n",
    "## 1. 練習\n",
    "以下で読み込むデータには、多数の「GO Term」と呼ばれるもの GO:XXXXXXX （7桁番号）が書かれています。\n",
    "データ内の各GO Termの個数をカウントし、表にまとめてみましょう。\n",
    "\n",
    "解答を以下に示していますが、やり方は他にいくらでもあるので、同じやり方でなくても結果が出れば大丈夫です。\n",
    "\n",
    "また、この様な問題を解けることが大事なのではなく、\"pythonによって何が出来るのか\"を知っておくことが大切です。"
   ]
  },
  {
   "cell_type": "code",
   "execution_count": 1,
   "metadata": {
    "collapsed": true
   },
   "outputs": [
    {
     "data": {
      "text/html": [
       "<div>\n",
       "<style>\n",
       "    .dataframe thead tr:only-child th {\n",
       "        text-align: right;\n",
       "    }\n",
       "\n",
       "    .dataframe thead th {\n",
       "        text-align: left;\n",
       "    }\n",
       "\n",
       "    .dataframe tbody tr th {\n",
       "        vertical-align: top;\n",
       "    }\n",
       "</style>\n",
       "<table border=\"1\" class=\"dataframe\">\n",
       "  <thead>\n",
       "    <tr style=\"text-align: right;\">\n",
       "      <th></th>\n",
       "      <th>GO</th>\n",
       "    </tr>\n",
       "  </thead>\n",
       "  <tbody>\n",
       "    <tr>\n",
       "      <th>TRINITY_DN10012_c0_g2</th>\n",
       "      <td>GO:0000959,GO:0003674,GO:0005488,GO:0005575,GO...</td>\n",
       "    </tr>\n",
       "    <tr>\n",
       "      <th>TRINITY_DN10043_c0_g1</th>\n",
       "      <td>GO:0003674,GO:0005215,GO:0005575,GO:0008324,GO...</td>\n",
       "    </tr>\n",
       "    <tr>\n",
       "      <th>TRINITY_DN10127_c1_g1</th>\n",
       "      <td>GO:0000166,GO:0000943,GO:0001882,GO:0001883,GO...</td>\n",
       "    </tr>\n",
       "    <tr>\n",
       "      <th>TRINITY_DN10127_c1_g12</th>\n",
       "      <td>GO:0000166,GO:0000943,GO:0001882,GO:0001883,GO...</td>\n",
       "    </tr>\n",
       "    <tr>\n",
       "      <th>TRINITY_DN10127_c1_g5</th>\n",
       "      <td>GO:0000166,GO:0000943,GO:0001882,GO:0001883,GO...</td>\n",
       "    </tr>\n",
       "    <tr>\n",
       "      <th>TRINITY_DN10162_c1_g1</th>\n",
       "      <td>GO:0003674,GO:0003824,GO:0008150,GO:0008152,GO...</td>\n",
       "    </tr>\n",
       "    <tr>\n",
       "      <th>TRINITY_DN10206_c0_g1</th>\n",
       "      <td>GO:0000272,GO:0003674,GO:0003824,GO:0005488,GO...</td>\n",
       "    </tr>\n",
       "    <tr>\n",
       "      <th>TRINITY_DN10270_c2_g1</th>\n",
       "      <td>GO:0000322,GO:0000325,GO:0000326,GO:0005575,GO...</td>\n",
       "    </tr>\n",
       "    <tr>\n",
       "      <th>TRINITY_DN10312_c0_g3</th>\n",
       "      <td>GO:0003674,GO:0003824,GO:0004497,GO:0005488,GO...</td>\n",
       "    </tr>\n",
       "    <tr>\n",
       "      <th>TRINITY_DN10325_c0_g1</th>\n",
       "      <td>GO:0006950,GO:0006952,GO:0008150,GO:0009607,GO...</td>\n",
       "    </tr>\n",
       "  </tbody>\n",
       "</table>\n",
       "</div>"
      ],
      "text/plain": [
       "                                                                       GO\n",
       "TRINITY_DN10012_c0_g2   GO:0000959,GO:0003674,GO:0005488,GO:0005575,GO...\n",
       "TRINITY_DN10043_c0_g1   GO:0003674,GO:0005215,GO:0005575,GO:0008324,GO...\n",
       "TRINITY_DN10127_c1_g1   GO:0000166,GO:0000943,GO:0001882,GO:0001883,GO...\n",
       "TRINITY_DN10127_c1_g12  GO:0000166,GO:0000943,GO:0001882,GO:0001883,GO...\n",
       "TRINITY_DN10127_c1_g5   GO:0000166,GO:0000943,GO:0001882,GO:0001883,GO...\n",
       "TRINITY_DN10162_c1_g1   GO:0003674,GO:0003824,GO:0008150,GO:0008152,GO...\n",
       "TRINITY_DN10206_c0_g1   GO:0000272,GO:0003674,GO:0003824,GO:0005488,GO...\n",
       "TRINITY_DN10270_c2_g1   GO:0000322,GO:0000325,GO:0000326,GO:0005575,GO...\n",
       "TRINITY_DN10312_c0_g3   GO:0003674,GO:0003824,GO:0004497,GO:0005488,GO...\n",
       "TRINITY_DN10325_c0_g1   GO:0006950,GO:0006952,GO:0008150,GO:0009607,GO..."
      ]
     },
     "execution_count": 1,
     "metadata": {},
     "output_type": "execute_result"
    }
   ],
   "source": [
    "import pandas as pd\n",
    "\n",
    "df = pd.read_csv('./data/go_annotations.txt', sep='\\t', header=-1, index_col=0, names=['GO'])\n",
    "\n",
    "df.head(10)  # 最初の10データのみ表示"
   ]
  },
  {
   "cell_type": "code",
   "execution_count": null,
   "metadata": {
    "collapsed": true
   },
   "outputs": [],
   "source": [
    "# forとifでなんとかする方法(遅い)\n",
    "\n",
    "# 1.全てのGOのリストを作る\n",
    "\n",
    "all_GO = []\n",
    "for each_GOs in df[\"GO\"]:\n",
    "    GO_list = each_GOs.split(\",\") # each_GOsの中の文字列を”,”で区切る　例)\"GO:0000959,GO:0003674,GO:0005488\" => [\"GO:0000959\", \"GO:0003674\", \"GO:0005488\"]\n",
    "    all_GO.extend(GO_list)        # all_GOというリストの中にGO_listの中身を追加していく\n",
    "\n",
    "# 2.各GO:xxxxxxxの個数をカウントする\n",
    "\n",
    "GO_unique = []                    # GO_uniqueという重複を除いたリストを作成\n",
    "for GO in all_GO:                 # [\"GO:1\", \"GO:1\", \"GO:2\", \"GO:3\", \"GO:3\", \"GO:3\"] => [\"GO:1\", \"GO:2\", \"GO:3\"] みたいな感じ\n",
    "    if GO not in GO_unique:\n",
    "        GO_unique.append(GO)\n",
    "\n",
    "result = []                       # GO_uniqueに含まれる各GO:000xxxxがall_GOに何個あるのかを数える\n",
    "for each_GO in GO_unique:\n",
    "    count = 0\n",
    "    for x in all_GO:\n",
    "        if x == each_GO:\n",
    "            count += 1\n",
    "    result.append([each_GO, count])\n",
    "\n",
    "# print(result)\n",
    "print(pd.DataFrame(result))"
   ]
  },
  {
   "cell_type": "code",
   "execution_count": null,
   "metadata": {
    "collapsed": true
   },
   "outputs": [],
   "source": [
    "# 別のやり方\n",
    "\n",
    "# 1.全てのGOのリストを作る(ここは先ほどと同じ)\n",
    "all_GO = []\n",
    "for each_GOs in df[\"GO\"]:\n",
    "    GO_list = each_GOs.split(\",\")\n",
    "    all_GO.extend(GO_list)\n",
    "\n",
    "# 2_1.ライブラリを使う\n",
    "import collections\n",
    "result = collections.Counter(all_GO)\n",
    "print(result)"
   ]
  },
  {
   "cell_type": "code",
   "execution_count": null,
   "metadata": {
    "collapsed": true
   },
   "outputs": [],
   "source": [
    "# 2_2.pandasの機能を使う\n",
    "result = pd.Series(all_GO).value_counts()\n",
    "print(result)"
   ]
  }
 ],
 "metadata": {
  "anaconda-cloud": {},
  "kernelspec": {
   "display_name": "Python 3",
   "language": "python",
   "name": "python3"
  },
  "language_info": {
   "codemirror_mode": {
    "name": "ipython",
    "version": 3
   },
   "file_extension": ".py",
   "mimetype": "text/x-python",
   "name": "python",
   "nbconvert_exporter": "python",
   "pygments_lexer": "ipython3",
   "version": "3.6.5"
  }
 },
 "nbformat": 4,
 "nbformat_minor": 1
}
