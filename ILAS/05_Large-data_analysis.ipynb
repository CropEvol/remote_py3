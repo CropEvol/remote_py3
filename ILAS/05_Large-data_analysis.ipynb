{
 "cells": [
  {
   "cell_type": "markdown",
   "metadata": {},
   "source": [
    "# 大規模データを扱う 2_解答編\n",
    "\n",
    "1. [練習](#link1)\n",
    "\n",
    "<a name=\"link1\"></a>\n",
    "\n",
    "### 問題\n",
    "以下で読み込むデータには、多数の「GO Term」と呼ばれるもの GO:XXXXXXX （7桁番号）が書かれています。\n",
    "\n",
    "データ内の各GO Termの個数をカウントし、表にまとめてみましょう。\n",
    "\n",
    "![概説](pics/go_table.png \"概説\")"
   ]
  },
  {
   "cell_type": "code",
   "execution_count": null,
   "metadata": {
    "scrolled": false
   },
   "outputs": [],
   "source": [
    "# データの読み込み\n",
    "import pandas as pd\n",
    "\n",
    "df = pd.read_csv('./data/go_annotations.txt', sep='\\t', header=-1, index_col=0, names=['GO'])\n",
    "df.head(10)"
   ]
  },
  {
   "cell_type": "markdown",
   "metadata": {},
   "source": [
    "### 解答\n",
    "解答の例を以下に示しますが、やり方は他にいくらでもあるので、同じやり方でなくても結果が出れば大丈夫です。\n",
    "\n",
    "また、この様な問題を解けることが大事なのではなく、\"pythonによって何が出来るのか\"を知っておくことが大切です。"
   ]
  },
  {
   "cell_type": "markdown",
   "metadata": {},
   "source": [
    "#### 解答_1\n",
    "forとifでなんとかする方法(遅い)"
   ]
  },
  {
   "cell_type": "code",
   "execution_count": null,
   "metadata": {},
   "outputs": [],
   "source": [
    "# 1.全てのGOのリストを作る\n",
    "\n",
    "all_GO = []\n",
    "for each_GOs in df[\"GO\"]:\n",
    "    GO_list = each_GOs.split(\",\") # each_GOsの中の文字列を”,”で区切る　例)\"GO:0000959,GO:0003674,GO:0005488\" => [\"GO:0000959\", \"GO:0003674\", \"GO:0005488\"]\n",
    "    all_GO.extend(GO_list)        # all_GOというリストの中にGO_listの中身を追加していく"
   ]
  },
  {
   "cell_type": "markdown",
   "metadata": {},
   "source": [
    "<img src=\"pics/5_1.png\" width=50%>"
   ]
  },
  {
   "cell_type": "code",
   "execution_count": null,
   "metadata": {
    "collapsed": true
   },
   "outputs": [],
   "source": [
    "# 2.重複を除いたリストを作成する\n",
    "\n",
    "unique_GO = []                    # GO_uniqueという重複を除いたリストを作成\n",
    "for GO in all_GO:                 # [\"GO:1\", \"GO:1\", \"GO:2\", \"GO:3\", \"GO:3\", \"GO:3\"] => [\"GO:1\", \"GO:2\", \"GO:3\"] みたいな感じ\n",
    "    if GO not in unique_GO:\n",
    "        unique_GO.append(GO)"
   ]
  },
  {
   "cell_type": "markdown",
   "metadata": {},
   "source": [
    "<img src=\"pics/5_2.png\" width=50%>"
   ]
  },
  {
   "cell_type": "code",
   "execution_count": null,
   "metadata": {
    "collapsed": true
   },
   "outputs": [],
   "source": [
    "# 3.数える\n",
    "\n",
    "result = []                       # GO_uniqueに含まれる各GO:000xxxxがall_GOに何個あるのかを数える\n",
    "for each_GO in unique_GO:\n",
    "    count = 0\n",
    "    for x in all_GO:\n",
    "        if x == each_GO:\n",
    "            count += 1\n",
    "    result.append([each_GO, count])\n",
    "\n",
    "# print(result)\n",
    "print(pd.DataFrame(result))"
   ]
  },
  {
   "cell_type": "markdown",
   "metadata": {},
   "source": [
    "<img src=\"pics/5_3.png\" width=40%>"
   ]
  },
  {
   "cell_type": "markdown",
   "metadata": {},
   "source": [
    "#### 解答_2\n",
    "ライブラリを使う"
   ]
  },
  {
   "cell_type": "code",
   "execution_count": null,
   "metadata": {
    "collapsed": true
   },
   "outputs": [],
   "source": [
    "# 1.全てのGOのリストを作る(ここは先ほどと同じ)\n",
    "all_GO = []\n",
    "for each_GOs in df[\"GO\"]:\n",
    "    GO_list = each_GOs.split(\",\")\n",
    "    all_GO.extend(GO_list)\n",
    "\n",
    "# 2_1.ライブラリを使う\n",
    "import collections\n",
    "result = collections.Counter(all_GO)\n",
    "print(result)"
   ]
  },
  {
   "cell_type": "markdown",
   "metadata": {},
   "source": [
    "#### 解答_3\n",
    "pandasの機能を使う"
   ]
  },
  {
   "cell_type": "code",
   "execution_count": null,
   "metadata": {
    "collapsed": true
   },
   "outputs": [],
   "source": [
    "# 1.全てのGOのリストを作る(ここは先ほどと同じ)\n",
    "all_GO = []\n",
    "for each_GOs in df[\"GO\"]:\n",
    "    GO_list = each_GOs.split(\",\")\n",
    "    all_GO.extend(GO_list)\n",
    "\n",
    "# 2_2.pandasの機能を使う\n",
    "result = pd.Series(all_GO).value_counts()\n",
    "print(result)"
   ]
  }
 ],
 "metadata": {
  "anaconda-cloud": {},
  "kernelspec": {
   "display_name": "Python 3",
   "language": "python",
   "name": "python3"
  },
  "language_info": {
   "codemirror_mode": {
    "name": "ipython",
    "version": 3
   },
   "file_extension": ".py",
   "mimetype": "text/x-python",
   "name": "python",
   "nbconvert_exporter": "python",
   "pygments_lexer": "ipython3",
   "version": "3.6.5"
  }
 },
 "nbformat": 4,
 "nbformat_minor": 1
}
