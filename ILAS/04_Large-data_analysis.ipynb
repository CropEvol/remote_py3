{
 "cells": [
  {
   "cell_type": "markdown",
   "metadata": {},
   "source": [
    "# 大規模データを扱う 2\n",
    "\n",
    "1. [練習](#link1)\n",
    "\n",
    "<a name=\"link1\"></a>\n",
    "## 1. 練習\n",
    "この練習では、下で読み込んだデータを用います。  \n",
    "このデータには、多数の「GO Term」と呼ばれるもの GO:XXXXXXX （7桁番号）が書かれています。\n",
    "データ内の各GO Termの個数をカウントし、表にまとめてみましょう。\n",
    "\n",
    "---\n",
    "\n",
    "#### 遺伝子オントロジー（Gene Ontology: GO）\n",
    "\n",
    "遺伝子オントロジーとは、遺伝子の機能を階層的に分類したものです。  \n",
    "各分類には7桁数字のID（GO Term）が割り当てられています。\n",
    "\n",
    "遺伝子オントロジーは大きく三つのカテゴリー（最上位の分類）に分けられます。  \n",
    "この三つのカテゴリーの下に、多くの分類が存在しています。\n",
    "\n",
    "- GO:0003674: Molecular Function（分子的な機能）\n",
    "- GO:0005575: Cellular Component（細胞構成要素）\n",
    "- GO:0008150: Biological Process（生物学的プロセス）\n",
    "\n",
    "\n",
    "通常、一つの遺伝子は複数のオントロジーを持っています。  \n",
    "例えば、TRINITY_DN10325_c0_g1 は、次の遺伝子オントロジーを持っています。\n",
    "\n",
    "- GO:0006950: response to stress\n",
    "- GO:0006952: defense response\n",
    "- GO:0008150: biological_process\n",
    "- GO:0009607: response to biotic stimulus"
   ]
  },
  {
   "cell_type": "code",
   "execution_count": null,
   "metadata": {},
   "outputs": [],
   "source": [
    "import pandas as pd\n",
    "\n",
    "df = pd.read_csv('./data/go_annotations.txt', sep='\\t', header=-1, index_col=0, names=['GO'])\n",
    "\n",
    "df.head(10)  # 最初の10データのみ表示"
   ]
  },
  {
   "cell_type": "code",
   "execution_count": null,
   "metadata": {
    "collapsed": true
   },
   "outputs": [],
   "source": []
  }
 ],
 "metadata": {
  "anaconda-cloud": {},
  "kernelspec": {
   "display_name": "Python [anaconda3-4.1.1]",
   "language": "python",
   "name": "Python [anaconda3-4.1.1]"
  },
  "language_info": {
   "codemirror_mode": {
    "name": "ipython",
    "version": 3
   },
   "file_extension": ".py",
   "mimetype": "text/x-python",
   "name": "python",
   "nbconvert_exporter": "python",
   "pygments_lexer": "ipython3",
   "version": "3.5.5"
  }
 },
 "nbformat": 4,
 "nbformat_minor": 1
}
