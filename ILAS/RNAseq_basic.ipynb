{
 "cells": [
  {
   "cell_type": "markdown",
   "metadata": {},
   "source": [
    "## データファイルの読み込み\n",
    "- 遺伝子発現量・比較結果のファイル\n",
    "- 遺伝子の詳細情報リスト（BLAST結果）\n",
    "- 遺伝子のGO_IDリスト"
   ]
  },
  {
   "cell_type": "code",
   "execution_count": 2,
   "metadata": {
    "scrolled": false
   },
   "outputs": [],
   "source": [
    "# フォルダ名\n",
    "DATA_FOLDER = 'tea_set'\n",
    "# ファイル名\n",
    "RES_FILE = DATA_FOLDER + '/' + 'S3.dataset.txt'    # 遺伝子発現量・比較結果\n",
    "BST_FILE = DATA_FOLDER + '/' + 'S3.DEGs_BLAST.txt' # 詳細情報リスト（BLAST結果）\n",
    "GOL_FILE = DATA_FOLDER + '/' + 'S3.DEGs_GO.txt'    # GO_IDリスト"
   ]
  },
  {
   "cell_type": "code",
   "execution_count": 3,
   "metadata": {},
   "outputs": [],
   "source": [
    "# パッケージやツールをインポート\n",
    "import pandas as pd\n",
    "%matplotlib inline\n",
    "\n",
    "# 読み込み\n",
    "RES = pd.read_csv(RES_FILE, sep='\\t', header=0,  index_col=0)\n",
    "BST = pd.read_csv(BST_FILE, sep='\\t', header=0,  index_col=0)\n",
    "GOL = pd.read_csv(GOL_FILE, sep='\\t', header=-1, index_col=0, names=['GO'])"
   ]
  },
  {
   "cell_type": "markdown",
   "metadata": {},
   "source": [
    "## 集計\n",
    "- 遺伝子総数      : 調査した遺伝子数\n",
    "- 発現変動遺伝子数 : 発現量に差があった遺伝子数（FDR<0.05）\n",
    "- サンプルA高発現  : サンプルAで多く発現していた遺伝子数（FDR<0.05 & logFC>0）\n",
    "- サンプルB高発現  : サンプルBで多く発現していた遺伝子数（FDR<0.05 & logFC<0）"
   ]
  },
  {
   "cell_type": "code",
   "execution_count": 4,
   "metadata": {},
   "outputs": [
    {
     "name": "stdout",
     "output_type": "stream",
     "text": [
      "遺伝子総数: 22470\n",
      "発現変動遺伝子数: 1135\n",
      "サンプルA高発現: 670\n",
      "サンプルB高発現: 465\n"
     ]
    },
    {
     "data": {
      "image/png": "[encoded data removed]",
      "text/plain": [
       "<Figure size 432x288 with 1 Axes>"
      ]
     },
     "metadata": {},
     "output_type": "display_data"
    }
   ],
   "source": [
    "# 比較した遺伝子数\n",
    "print('遺伝子総数:', len(RES))  \n",
    "\n",
    "# 発現量に差があった遺伝子数\n",
    "sub = RES[RES['FDR']<0.05]\n",
    "print('発現変動遺伝子数:', len(sub))\n",
    "\n",
    "# サンプルAで多く発現していた遺伝子数\n",
    "subA = sub[sub['logFC']>0]\n",
    "subB = sub[sub['logFC']<0]\n",
    "print('サンプルA高発現:', len(subA))\n",
    "print('サンプルB高発現:', len(subB))\n",
    "\n",
    "# 棒グラフ\n",
    "def bar_plot(df, log_scale=False):\n",
    "    from matplotlib import pyplot as plt\n",
    "    plt.style.use('ggplot')\n",
    "    \n",
    "    non = len(df) - len(df[df['FDR']<0.05])\n",
    "    upA = len(df[(df['FDR']<0.05) & (df['logFC']>0)])\n",
    "    upB = len(df[(df['FDR']<0.05) & (df['logFC']<0)])\n",
    "    \n",
    "    G = plt.bar(\n",
    "        x      = ['High-A', 'High-B', 'non-DEGs'],\n",
    "        height = [upA, upB, non], \n",
    "        align  = \"center\",\n",
    "        log    = log_scale,\n",
    "        facecolor='#9999ff',\n",
    "        edgecolor='white',\n",
    "    )\n",
    "    \n",
    "    # フォントサイズ\n",
    "    plt.tick_params(labelsize=18)\n",
    "    \n",
    "    # カウント追加\n",
    "    plt.text(0, upA*1.2, '%d'%upA, ha='center', va='bottom', size=18)\n",
    "    plt.text(1, upB*1.2, '%d'%upB, ha='center', va='bottom', size=18)\n",
    "    plt.text(2, non*0.9, '%d'%non, ha='center', va='bottom', size=18)\n",
    "    # タイトル部分に遺伝子総数\n",
    "    plt.title('Total: %d genes'%len(df), size=18)\n",
    "\n",
    "bar_plot(RES)"
   ]
  },
  {
   "cell_type": "markdown",
   "metadata": {},
   "source": [
    "## ワード検索"
   ]
  },
  {
   "cell_type": "code",
   "execution_count": null,
   "metadata": {},
   "outputs": [],
   "source": []
  },
  {
   "cell_type": "code",
   "execution_count": null,
   "metadata": {},
   "outputs": [],
   "source": []
  }
 ],
 "metadata": {
  "kernelspec": {
   "display_name": "Python 3",
   "language": "python",
   "name": "python3"
  },
  "language_info": {
   "codemirror_mode": {
    "name": "ipython",
    "version": 3
   },
   "file_extension": ".py",
   "mimetype": "text/x-python",
   "name": "python",
   "nbconvert_exporter": "python",
   "pygments_lexer": "ipython3",
   "version": "3.5.2"
  }
 },
 "nbformat": 4,
 "nbformat_minor": 2
}
